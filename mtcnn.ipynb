{
 "metadata": {
  "language_info": {
   "codemirror_mode": {
    "name": "ipython",
    "version": 3
   },
   "file_extension": ".py",
   "mimetype": "text/x-python",
   "name": "python",
   "nbconvert_exporter": "python",
   "pygments_lexer": "ipython3",
   "version": "3.8.8"
  },
  "orig_nbformat": 2,
  "kernelspec": {
   "name": "python388jvsc74a57bd0012cd2866f3402d1379f784d41cfc922dd07559f496dbd8d86ed0d3672ff3ab5",
   "display_name": "Python 3.8.8 64-bit ('Torch': conda)"
  }
 },
 "nbformat": 4,
 "nbformat_minor": 2,
 "cells": [
  {
   "cell_type": "code",
   "execution_count": 1,
   "metadata": {},
   "outputs": [],
   "source": [
    "import torch\n",
    "import torch.nn as nn\n",
    "import torch.nn.functional as F"
   ]
  },
  {
   "cell_type": "code",
   "execution_count": 2,
   "metadata": {},
   "outputs": [],
   "source": [
    "def weigths_init(m):\n",
    "    if isinstance(m, nn.Conv2d) or isinstance(m, nn.Linear): # data type\n",
    "        nn.init.xavier_uniform(m.weight.data)\n",
    "        nn.init.constant_(m.bias, 0.1)"
   ]
  },
  {
   "cell_type": "code",
   "execution_count": 3,
   "metadata": {},
   "outputs": [],
   "source": [
    "def compute_accuracy(prob_cls, gt_cls):\n",
    "    # return tensor\n",
    "    prob_cls = torch.squeeze(prob_cls)\n",
    "    gt_cls = torch.squeeze(gt_cls)\n",
    "\n",
    "    # tensor 비교 >= true or false\n",
    "    mask = torch.ge(gt_cls,0)\n",
    "    valid_gt_cls = torch.masked_select(gt_cls, mask)\n",
    "    valid_prob_cls = torch.masked_select(prob_cls,mask)\n",
    "\n",
    "    #computer predicted accuracy\n",
    "    size = min(valid_gt_cls.size()[0],valid_prob_cls.size()[0])\n",
    "    prob_ones = torch.ge(valid_prob_cls, 0.6).float()\n",
    "    right_ones = torch.eq(prob_ones, valid_gt_cls).float()"
   ]
  },
  {
   "cell_type": "code",
   "execution_count": 11,
   "metadata": {},
   "outputs": [
    {
     "output_type": "execute_result",
     "data": {
      "text/plain": [
       "tensor([[ True, False],\n",
       "        [False,  True]])"
      ]
     },
     "metadata": {},
     "execution_count": 11
    }
   ],
   "source": [
    "torch.ge(torch.tensor([[1, 1], [3, 4]]), torch.tensor([[1, 2], [4, 4]]))"
   ]
  },
  {
   "cell_type": "code",
   "execution_count": null,
   "metadata": {},
   "outputs": [],
   "source": []
  }
 ]
}